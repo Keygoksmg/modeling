{
 "cells": [
  {
   "cell_type": "code",
   "execution_count": 14,
   "metadata": {},
   "outputs": [
    {
     "name": "stdout",
     "output_type": "stream",
     "text": [
      "Status Optimal\n",
      "Result\n",
      "x = 4.0\n",
      "y = 6.0\n",
      "目的関数値 = 1000.0\n"
     ]
    }
   ],
   "source": [
    "import pulp\n",
    "\n",
    "problem = pulp.LpProblem('Problem_1', pulp.LpMaximize)\n",
    "\n",
    "# 変数の定義\n",
    "'''実数ならContinuous, 整数はInteger'''\n",
    "x = pulp.LpVariable('x', lowBound=0, cat='Continuous')\n",
    "y = pulp.LpVariable('y', lowBound=0, cat='Continuous')\n",
    "\n",
    "# 目的関数のと制約条件を設定\n",
    "problem += 100*x + 100*y\n",
    "problem += x + 2*y <= 16\n",
    "problem += 3*x + y <= 18\n",
    "\n",
    "# 実行\n",
    "status = problem.solve()\n",
    "print('Status', pulp.LpStatus[status])\n",
    "\n",
    "# 結果の表示\n",
    "print('Result')\n",
    "print('x =', x.value())\n",
    "print('y =', y.value())\n",
    "print('目的関数値 =', problem.objective.value())\n"
   ]
  },
  {
   "cell_type": "code",
   "execution_count": null,
   "metadata": {},
   "outputs": [],
   "source": []
  }
 ],
 "metadata": {
  "kernelspec": {
   "display_name": "Python 3",
   "language": "python",
   "name": "python3"
  },
  "language_info": {
   "codemirror_mode": {
    "name": "ipython",
    "version": 3
   },
   "file_extension": ".py",
   "mimetype": "text/x-python",
   "name": "python",
   "nbconvert_exporter": "python",
   "pygments_lexer": "ipython3",
   "version": "3.8.0"
  }
 },
 "nbformat": 4,
 "nbformat_minor": 4
}
