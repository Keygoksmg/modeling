{
 "cells": [
  {
   "cell_type": "markdown",
   "metadata": {},
   "source": [
    "# 問題設定\n",
    "## お店\n",
    "- キャパは毎日30\n",
    "\n",
    "## n人\n",
    "- それぞれが各曜日に買い物に行く効用がわかっている。\n",
    "- 週に１回、みんな買い物にいきたい"
   ]
  },
  {
   "cell_type": "code",
   "execution_count": 88,
   "metadata": {},
   "outputs": [
    {
     "name": "stdout",
     "output_type": "stream",
     "text": [
      "Optimal\n",
      "7 -> 0\n",
      "13 -> 0\n",
      "25 -> 0\n",
      "30 -> 0\n",
      "41 -> 0\n",
      "51 -> 0\n",
      "55 -> 0\n",
      "9 -> 1\n",
      "12 -> 1\n",
      "14 -> 1\n",
      "23 -> 1\n",
      "32 -> 1\n",
      "36 -> 1\n",
      "44 -> 1\n",
      "45 -> 1\n",
      "48 -> 1\n",
      "59 -> 1\n",
      "1 -> 2\n",
      "2 -> 2\n",
      "10 -> 2\n",
      "17 -> 2\n",
      "20 -> 2\n",
      "27 -> 2\n",
      "31 -> 2\n",
      "43 -> 2\n",
      "58 -> 2\n",
      "0 -> 3\n",
      "6 -> 3\n",
      "21 -> 3\n",
      "26 -> 3\n",
      "28 -> 3\n",
      "29 -> 3\n",
      "47 -> 3\n",
      "50 -> 3\n",
      "52 -> 3\n",
      "56 -> 3\n",
      "8 -> 4\n",
      "11 -> 4\n",
      "16 -> 4\n",
      "22 -> 4\n",
      "38 -> 4\n",
      "46 -> 4\n",
      "4 -> 5\n",
      "5 -> 5\n",
      "19 -> 5\n",
      "33 -> 5\n",
      "35 -> 5\n",
      "42 -> 5\n",
      "53 -> 5\n",
      "57 -> 5\n",
      "3 -> 6\n",
      "15 -> 6\n",
      "18 -> 6\n",
      "24 -> 6\n",
      "34 -> 6\n",
      "37 -> 6\n",
      "39 -> 6\n",
      "40 -> 6\n",
      "49 -> 6\n",
      "54 -> 6\n",
      "Mon 7\n",
      "Tue 10\n",
      "Wed 9\n",
      "Thu 10\n",
      "Fri 6\n",
      "Stu 8\n",
      "Sun 10\n",
      "Obj.value 524.550960203756\n",
      "time: 0.023341496999819356\n"
     ]
    }
   ],
   "source": [
    "import pulp\n",
    "import numpy as np\n",
    "import time\n",
    "from collections import Counter\n",
    "\n",
    "costomer_num = 60  # many people\n",
    "days_num = 7 # 7days 0:Mon, ....,6:Sun\n",
    "capa = 10\n",
    "\n",
    "# array of (3, 8)\n",
    "utility = (np.random.random_sample((days_num, costomer_num)))*10\n",
    "\n",
    "# Maximize problem\n",
    "problem = pulp.LpProblem(\"example\", pulp.LpMaximize)\n",
    "\n",
    "# 変数宣言\n",
    "x=[[0 for i in range(costomer_num)]for j in range(days_num)]\n",
    "for j in range(days_num):\n",
    "    for i in range(costomer_num):\n",
    "        x[j][i] = pulp.LpVariable(f\"x({j},{i})\", 0, 1, pulp.LpInteger)\n",
    "\n",
    "\n",
    "# 目的関数\n",
    "problem += sum(utility[j][i] * x[j][i] for i in range(costomer_num) for j in range(days_num))\n",
    "\n",
    "# 制約条件\n",
    "for j in range(days_num):\n",
    "    problem += sum(x[j][i] for i in range(costomer_num)) <= capa\n",
    "\n",
    "for i in range(costomer_num):\n",
    "    problem += sum(x[j][i] for j in range(days_num)) == 1\n",
    "\n",
    "# 時間計測開始\n",
    "time_start = time.perf_counter()\n",
    "status = problem.solve() # 実行\n",
    "time_stop = time.perf_counter()# 時間計測終了\n",
    "\n",
    "# 結果\n",
    "print(pulp.LpStatus[status])\n",
    "\n",
    "# Each person\n",
    "for j in range(days_num):\n",
    "    for i in range(costomer_num):\n",
    "        if x[j][i].value() == 1 :\n",
    "            print(i,\"->\",j)\n",
    "            days.append(j)\n",
    "            \n",
    "# Each days\n",
    "day_count = list(Counter(days).values())\n",
    "day_index = ['Mon', \"Tue\", 'Wed', 'Thu', 'Fri', 'Stu', 'Sun']\n",
    "for i, day in enumerate(day_index):\n",
    "    print(day, day_count[i])\n",
    "            \n",
    "            \n",
    "print(\"Obj.value\", problem.objective.value())\n",
    "print(\"time:\", time_stop-time_start)\n",
    "\n",
    "# Initialize days\n",
    "days = []"
   ]
  },
  {
   "cell_type": "code",
   "execution_count": 5,
   "metadata": {},
   "outputs": [],
   "source": [
    "utility = np.random.random_sample((3, 8))"
   ]
  },
  {
   "cell_type": "code",
   "execution_count": 12,
   "metadata": {},
   "outputs": [],
   "source": [
    "utility = (np.random.random_sample((days_num, costomer_num)))*10"
   ]
  },
  {
   "cell_type": "code",
   "execution_count": 13,
   "metadata": {},
   "outputs": [
    {
     "data": {
      "text/plain": [
       "array([[7.04038979, 0.27490476, 0.04878038, 9.17590381, 8.22458134,\n",
       "        9.28168718, 4.6734413 , 1.99704077],\n",
       "       [4.94709641, 9.45440511, 6.40623527, 2.97608791, 9.49782147,\n",
       "        1.04439609, 5.62768155, 0.15395067],\n",
       "       [1.33413228, 8.12202366, 7.22834021, 4.24592626, 4.64025657,\n",
       "        2.43388762, 8.7029275 , 7.18992486]])"
      ]
     },
     "execution_count": 13,
     "metadata": {},
     "output_type": "execute_result"
    }
   ],
   "source": [
    "utility"
   ]
  },
  {
   "cell_type": "code",
   "execution_count": 46,
   "metadata": {},
   "outputs": [
    {
     "data": {
      "text/plain": [
       "pulp.pulp.LpVariable"
      ]
     },
     "execution_count": 46,
     "metadata": {},
     "output_type": "execute_result"
    }
   ],
   "source": [
    "type(x[0][0])"
   ]
  },
  {
   "cell_type": "code",
   "execution_count": 77,
   "metadata": {},
   "outputs": [
    {
     "data": {
      "text/plain": [
       "dict_keys([0, 1, 2, 3, 4, 5, 6])"
      ]
     },
     "execution_count": 77,
     "metadata": {},
     "output_type": "execute_result"
    }
   ],
   "source": [
    "Counter(days).keys() "
   ]
  },
  {
   "cell_type": "code",
   "execution_count": 78,
   "metadata": {},
   "outputs": [
    {
     "data": {
      "text/plain": [
       "dict_values([9, 5, 9, 9, 10, 10, 8])"
      ]
     },
     "execution_count": 78,
     "metadata": {},
     "output_type": "execute_result"
    }
   ],
   "source": [
    "Counter(days).values() "
   ]
  },
  {
   "cell_type": "code",
   "execution_count": 75,
   "metadata": {},
   "outputs": [],
   "source": [
    "days = []"
   ]
  },
  {
   "cell_type": "code",
   "execution_count": 82,
   "metadata": {},
   "outputs": [
    {
     "ename": "AttributeError",
     "evalue": "'dict_values' object has no attribute 'tolist'",
     "output_type": "error",
     "traceback": [
      "\u001b[0;31m---------------------------------------------------------------------------\u001b[0m",
      "\u001b[0;31mAttributeError\u001b[0m                            Traceback (most recent call last)",
      "\u001b[0;32m<ipython-input-82-061178d04dcd>\u001b[0m in \u001b[0;36m<module>\u001b[0;34m\u001b[0m\n\u001b[0;32m----> 1\u001b[0;31m \u001b[0mCounter\u001b[0m\u001b[0;34m(\u001b[0m\u001b[0mdays\u001b[0m\u001b[0;34m)\u001b[0m\u001b[0;34m.\u001b[0m\u001b[0mvalues\u001b[0m\u001b[0;34m(\u001b[0m\u001b[0;34m)\u001b[0m\u001b[0;34m.\u001b[0m\u001b[0mtolist\u001b[0m\u001b[0;34m\u001b[0m\u001b[0;34m\u001b[0m\u001b[0m\n\u001b[0m",
      "\u001b[0;31mAttributeError\u001b[0m: 'dict_values' object has no attribute 'tolist'"
     ]
    }
   ],
   "source": [
    "Counter(days).values()"
   ]
  },
  {
   "cell_type": "code",
   "execution_count": null,
   "metadata": {},
   "outputs": [],
   "source": []
  }
 ],
 "metadata": {
  "kernelspec": {
   "display_name": "Python 3",
   "language": "python",
   "name": "python3"
  },
  "language_info": {
   "codemirror_mode": {
    "name": "ipython",
    "version": 3
   },
   "file_extension": ".py",
   "mimetype": "text/x-python",
   "name": "python",
   "nbconvert_exporter": "python",
   "pygments_lexer": "ipython3",
   "version": "3.8.0"
  }
 },
 "nbformat": 4,
 "nbformat_minor": 4
}
